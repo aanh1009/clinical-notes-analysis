{
  "nbformat": 4,
  "nbformat_minor": 0,
  "metadata": {
    "colab": {
      "provenance": [],
      "gpuType": "T4"
    },
    "kernelspec": {
      "name": "python3",
      "display_name": "Python 3"
    },
    "language_info": {
      "name": "python"
    },
    "accelerator": "GPU"
  },
  "cells": [
    {
      "cell_type": "markdown",
      "source": [
        "# Set-up"
      ],
      "metadata": {
        "id": "ho0LJqQ5sTZp"
      }
    },
    {
      "cell_type": "markdown",
      "source": [
        "import necessary libraries"
      ],
      "metadata": {
        "id": "gGOloytjsnc5"
      }
    },
    {
      "cell_type": "code",
      "source": [
        "import pandas as pd\n",
        "from transformers import pipeline, AutoTokenizer, AutoModelForSeq2SeqLM\n",
        "import json"
      ],
      "metadata": {
        "id": "wEyGMJCRN4mK"
      },
      "execution_count": 17,
      "outputs": []
    },
    {
      "cell_type": "markdown",
      "source": [
        "import data and load the model + pipeline"
      ],
      "metadata": {
        "id": "EEa7_HXmsugj"
      }
    },
    {
      "cell_type": "code",
      "source": [
        "data = pd.read_csv(\"clinical_notes_records.csv\")\n",
        "model_name = \"google/flan-t5-large\"\n",
        "tokenizer = AutoTokenizer.from_pretrained(model_name)\n",
        "gen_model = AutoModelForSeq2SeqLM.from_pretrained(model_name)\n",
        "generate_pipeline = pipeline(\"text2text-generation\", model=gen_model, tokenizer=tokenizer)"
      ],
      "metadata": {
        "id": "nyF8nAjbsXjZ",
        "colab": {
          "base_uri": "https://localhost:8080/"
        },
        "outputId": "16a50e65-b6e4-4f5f-9a31-a57561c3c4f7"
      },
      "execution_count": 18,
      "outputs": [
        {
          "output_type": "stream",
          "name": "stderr",
          "text": [
            "Device set to use cuda:0\n"
          ]
        }
      ]
    },
    {
      "cell_type": "markdown",
      "source": [
        "# Step 1: extract terms"
      ],
      "metadata": {
        "id": "sKnliEbOsEv0"
      }
    },
    {
      "cell_type": "code",
      "source": [
        "def extract_terms(note):\n",
        "    prompt = \"Extract the most alcohol-related single term like 'wine', 'beer', or 'vodka', etc., from the text: \" + note + \"\\n. The output contains words seperated by a comma.\"\n",
        "    extract = generate_pipeline(prompt, max_length=50, num_return_sequences=1)\n",
        "    generated_text = extract[0][\"generated_text\"].strip().lower()\n",
        "    extracted_terms = [term.strip() for term in generated_text.split(\",\")]\n",
        "    print(extracted_terms) #control the extraction\n",
        "    return extracted_terms[0]\n"
      ],
      "metadata": {
        "id": "Efd5eqs-Gnx-"
      },
      "execution_count": 19,
      "outputs": []
    },
    {
      "cell_type": "markdown",
      "source": [
        "# Step 2: answer the true/false questions\n",
        "\n",
        "\n"
      ],
      "metadata": {
        "id": "4nYQf-EkryGF"
      }
    },
    {
      "cell_type": "code",
      "source": [
        "def classify_attributes_generative(note):\n",
        "    #define the questions\n",
        "    attributes = {\n",
        "        \"Family\": \"Does the alcohol use concern family?\",\n",
        "        \"Historic\": \"Is the alcohol use historic?\",\n",
        "        \"Negation Status\": \"Is the alcohol use negated?\"\n",
        "    }\n",
        "\n",
        "    classifications = {}\n",
        "\n",
        "    #generate answers\n",
        "    for attr, question in attributes.items():\n",
        "        prompt = f\"Context: {note}\\nQuestion: {question}\\nAnswer (only yes or no):\"\n",
        "        result = generate_pipeline(prompt, max_length=10, num_return_sequences=1)\n",
        "        generated_text = result[0][\"generated_text\"].strip().lower()\n",
        "        classifications[attr] = generated_text.startswith(\"yes\")\n",
        "\n",
        "    return classifications"
      ],
      "metadata": {
        "id": "8JKaZrKbqOfS"
      },
      "execution_count": 20,
      "outputs": []
    },
    {
      "cell_type": "markdown",
      "source": [
        "# Step 3: combine the 2 previous steps into 1 function"
      ],
      "metadata": {
        "id": "wB7J7F4grpjR"
      }
    },
    {
      "cell_type": "code",
      "source": [
        "def process_note_generative(note):\n",
        "    # step 1\n",
        "    terms = extract_terms(note)\n",
        "\n",
        "    # step 2\n",
        "    attributes = classify_attributes_generative(note)\n",
        "\n",
        "    # combine\n",
        "    return {\n",
        "        \"Term\": terms,\n",
        "        \"Concept\": \"Alcohol Abuse\" if terms else None,\n",
        "        **attributes\n",
        "}"
      ],
      "metadata": {
        "id": "YWZU5lthqF0A"
      },
      "execution_count": 21,
      "outputs": []
    },
    {
      "cell_type": "markdown",
      "source": [
        "# Apply everything to the whole dataset"
      ],
      "metadata": {
        "id": "2RoC3sabrbp7"
      }
    },
    {
      "cell_type": "code",
      "source": [
        "data[\"processed\"] = data[\"Clinical Note\"].apply(process_note_generative)"
      ],
      "metadata": {
        "colab": {
          "base_uri": "https://localhost:8080/"
        },
        "id": "y9sE3NPRqHMt",
        "outputId": "290ee898-e84a-48ea-b7de-8fadb6f06e60"
      },
      "execution_count": 22,
      "outputs": [
        {
          "output_type": "stream",
          "name": "stdout",
          "text": [
            "['beer']\n",
            "['whiskey']\n",
            "['whiskey']\n",
            "['vodka']\n",
            "['alcohol']\n",
            "['alcohol']\n",
            "['alcohol']\n",
            "['beers']\n",
            "['vodka']\n",
            "['beer']\n"
          ]
        }
      ]
    },
    {
      "cell_type": "markdown",
      "source": [
        "# Lastly, format JSON output"
      ],
      "metadata": {
        "id": "7V5lpILwrS70"
      }
    },
    {
      "cell_type": "code",
      "source": [
        "def format_output(row):\n",
        "    return {\n",
        "        \"Patient ID\": row[\"Patient ID\"],\n",
        "        \"Note ID\": row[\"Note ID\"],\n",
        "        \"Extracted Terms\":[{**row[\"processed\"]}]\n",
        "    }\n",
        "\n",
        "output = data.apply(format_output, axis=1).tolist()\n",
        "\n",
        "with open(\"output.json\", \"w\") as f:\n",
        "    json.dump(output, f, indent=4)\n",
        "\n",
        "print(\"done (check output.json)!\")"
      ],
      "metadata": {
        "colab": {
          "base_uri": "https://localhost:8080/"
        },
        "id": "hnzBe8m7mTL4",
        "outputId": "8e04b8ea-81f6-4a6d-bc88-05424ce0e8a9"
      },
      "execution_count": 23,
      "outputs": [
        {
          "output_type": "stream",
          "name": "stdout",
          "text": [
            "done (check output.json)!\n"
          ]
        }
      ]
    }
  ]
}